{
 "cells": [
  {
   "cell_type": "code",
   "execution_count": 1,
   "id": "f74888d9",
   "metadata": {},
   "outputs": [],
   "source": [
    "import pymysql"
   ]
  },
  {
   "cell_type": "code",
   "execution_count": 4,
   "id": "b242c6ff",
   "metadata": {},
   "outputs": [],
   "source": [
    "#Establishing the Connection with the SQL\n",
    "connection = pymysql.connect(\n",
    "                            host = 'localhost',\n",
    "                            user = 'root',\n",
    "                            password = 'Amaan@49',\n",
    "                            database = 'actor'\n",
    ")"
   ]
  },
  {
   "cell_type": "code",
   "execution_count": 5,
   "id": "a24e3da6",
   "metadata": {},
   "outputs": [],
   "source": [
    "cur = connection.cursor()"
   ]
  },
  {
   "cell_type": "code",
   "execution_count": 6,
   "id": "c0b1ccbc",
   "metadata": {},
   "outputs": [],
   "source": [
    "#Creating the Tables\n",
    "table = '''\n",
    "create table actor(act_id int primary key,\n",
    "                   act_name varchar(30),\n",
    "                   act_gender varchar(10)\n",
    "                   )\n",
    "'''"
   ]
  },
  {
   "cell_type": "code",
   "execution_count": 7,
   "id": "864ebecd",
   "metadata": {},
   "outputs": [
    {
     "data": {
      "text/plain": [
       "0"
      ]
     },
     "execution_count": 7,
     "metadata": {},
     "output_type": "execute_result"
    }
   ],
   "source": [
    "cur.execute(table)"
   ]
  },
  {
   "cell_type": "code",
   "execution_count": 8,
   "id": "64f9b3bb",
   "metadata": {},
   "outputs": [],
   "source": [
    "table = '''\n",
    "create table director(dir_id int primary key,\n",
    "                   dir_name varchar(30),\n",
    "                   dir_phone int\n",
    "                   )\n",
    "'''"
   ]
  },
  {
   "cell_type": "code",
   "execution_count": 9,
   "id": "592281f7",
   "metadata": {},
   "outputs": [
    {
     "data": {
      "text/plain": [
       "0"
      ]
     },
     "execution_count": 9,
     "metadata": {},
     "output_type": "execute_result"
    }
   ],
   "source": [
    "cur.execute(table)"
   ]
  },
  {
   "cell_type": "code",
   "execution_count": 10,
   "id": "5301142e",
   "metadata": {},
   "outputs": [],
   "source": [
    "table = '''\n",
    "create table movies(mov_id int primary key,\n",
    "                   mov_title varchar(30),\n",
    "                   mov_year int,\n",
    "                   mov_lang varchar(10),\n",
    "                   dir_id int,\n",
    "                   foreign key(dir_id) references director(dir_id)\n",
    "                   )\n",
    "'''"
   ]
  },
  {
   "cell_type": "code",
   "execution_count": 11,
   "id": "8b0719f4",
   "metadata": {},
   "outputs": [
    {
     "data": {
      "text/plain": [
       "0"
      ]
     },
     "execution_count": 11,
     "metadata": {},
     "output_type": "execute_result"
    }
   ],
   "source": [
    "cur.execute(table)"
   ]
  },
  {
   "cell_type": "code",
   "execution_count": 22,
   "id": "76f0a841",
   "metadata": {},
   "outputs": [],
   "source": [
    "table = '''\n",
    "create table movies_cast(act_id int ,\n",
    "                   mov_id int,\n",
    "                   role varchar(30),\n",
    "                   primary key(act_id,mov_id),\n",
    "                   foreign key(act_id) references actor(act_id),\n",
    "                   foreign key(mov_id) references movies(mov_id)\n",
    "                   )\n",
    "'''"
   ]
  },
  {
   "cell_type": "code",
   "execution_count": 23,
   "id": "18d3c28c",
   "metadata": {},
   "outputs": [
    {
     "data": {
      "text/plain": [
       "0"
      ]
     },
     "execution_count": 23,
     "metadata": {},
     "output_type": "execute_result"
    }
   ],
   "source": [
    "cur.execute(table)"
   ]
  },
  {
   "cell_type": "code",
   "execution_count": 20,
   "id": "d5a648f1",
   "metadata": {},
   "outputs": [],
   "source": [
    "table ='''\n",
    "create table rating(mov_id int primary key,\n",
    "rev_stars varchar(30),\n",
    "foreign key(mov_id) references movies(mov_id)\n",
    ")\n",
    "'''"
   ]
  },
  {
   "cell_type": "code",
   "execution_count": 21,
   "id": "572a00a3",
   "metadata": {},
   "outputs": [
    {
     "data": {
      "text/plain": [
       "0"
      ]
     },
     "execution_count": 21,
     "metadata": {},
     "output_type": "execute_result"
    }
   ],
   "source": [
    "cur.execute(table)"
   ]
  },
  {
   "cell_type": "code",
   "execution_count": 30,
   "id": "57c7bf4e",
   "metadata": {},
   "outputs": [
    {
     "name": "stdout",
     "output_type": "stream",
     "text": [
      "Enter the id of actor:4\n",
      "Enter the name of the actor:SRIDEVI\n",
      "Enter the Gender of the actor:F\n"
     ]
    }
   ],
   "source": [
    "#Taking the values from the user for ACTORS\n",
    "a = int(input('Enter the id of actor:'))\n",
    "b = str(input('Enter the name of the actor:'))\n",
    "c = str(input('Enter the Gender of the actor:'))"
   ]
  },
  {
   "cell_type": "code",
   "execution_count": 31,
   "id": "6dcb856d",
   "metadata": {},
   "outputs": [
    {
     "data": {
      "text/plain": [
       "0"
      ]
     },
     "execution_count": 31,
     "metadata": {},
     "output_type": "execute_result"
    }
   ],
   "source": [
    "#Dynamically inserting the values\n",
    "values = \"insert into actor (act_id,act_name,act_gender) values(%s,%s,%s)\"\n",
    "cur.execute(values,(a,b,c))\n",
    "cur.execute('commit')"
   ]
  },
  {
   "cell_type": "code",
   "execution_count": 44,
   "id": "8c09ed93",
   "metadata": {},
   "outputs": [
    {
     "name": "stdout",
     "output_type": "stream",
     "text": [
      "Enter the id of director:106\n",
      "Enter the name of the director:STEVEN SPIELBERG\n",
      "Enter the Number of the director:99651\n"
     ]
    }
   ],
   "source": [
    "#Taking the values from the user fro DIRECTOR\n",
    "a = int(input('Enter the id of director:'))\n",
    "b = str(input('Enter the name of the director:'))\n",
    "c = int(input('Enter the Number of the director:'))"
   ]
  },
  {
   "cell_type": "code",
   "execution_count": 45,
   "id": "2b7a44e6",
   "metadata": {},
   "outputs": [
    {
     "data": {
      "text/plain": [
       "0"
      ]
     },
     "execution_count": 45,
     "metadata": {},
     "output_type": "execute_result"
    }
   ],
   "source": [
    "#Dynamically inserting the values\n",
    "values = \"insert into director (dir_id,dir_name,dir_phone) values(%s,%s,%s)\"\n",
    "cur.execute(values,(a,b,c))\n",
    "cur.execute('commit')"
   ]
  },
  {
   "cell_type": "code",
   "execution_count": 60,
   "id": "3e81096d",
   "metadata": {},
   "outputs": [
    {
     "name": "stdout",
     "output_type": "stream",
     "text": [
      "Enter the id of Movie:508\n",
      "Enter the Title of the Movie:SHADOW OF A DOUBT\n",
      "Enter the Year of the Movie:1943\n",
      "Enter the language of the movie:ENGLISH\n",
      "Enter the id of the director:105\n"
     ]
    }
   ],
   "source": [
    "#Taking the values from the user fro MOVIES\n",
    "a = int(input('Enter the id of Movie:'))\n",
    "b = str(input('Enter the Title of the Movie:'))\n",
    "c = int(input('Enter the Year of the Movie:'))\n",
    "d = str(input('Enter the language of the movie:'))\n",
    "e = int(input('Enter the id of the director:'))"
   ]
  },
  {
   "cell_type": "code",
   "execution_count": 61,
   "id": "62b0c52c",
   "metadata": {},
   "outputs": [
    {
     "data": {
      "text/plain": [
       "0"
      ]
     },
     "execution_count": 61,
     "metadata": {},
     "output_type": "execute_result"
    }
   ],
   "source": [
    "#Dynamically inserting the values\n",
    "values = '''\n",
    "insert into movies values(%s,%s,%s,%s,%s)\n",
    "'''\n",
    "cur.execute(values,(a,b,c,d,e))\n",
    "cur.execute('commit')"
   ]
  },
  {
   "cell_type": "code",
   "execution_count": 70,
   "id": "532834df",
   "metadata": {},
   "outputs": [
    {
     "name": "stdout",
     "output_type": "stream",
     "text": [
      "Enter the id of actor:4\n",
      "Enter the id of the movie:501\n",
      "Enter the role of the actor:HERO\n"
     ]
    }
   ],
   "source": [
    "#Taking the values from the user for MOVIE_CAST\n",
    "a = int(input('Enter the id of actor:'))\n",
    "b = int(input('Enter the id of the movie:'))\n",
    "c = str(input('Enter the role of the actor:'))"
   ]
  },
  {
   "cell_type": "code",
   "execution_count": 71,
   "id": "d6e29863",
   "metadata": {},
   "outputs": [
    {
     "data": {
      "text/plain": [
       "0"
      ]
     },
     "execution_count": 71,
     "metadata": {},
     "output_type": "execute_result"
    }
   ],
   "source": [
    "#Dynamically inserting the values\n",
    "values = \"insert into movies_cast values(%s,%s,%s)\"\n",
    "cur.execute(values,(a,b,c))\n",
    "cur.execute('commit')"
   ]
  },
  {
   "cell_type": "code",
   "execution_count": 82,
   "id": "ca715ccc",
   "metadata": {},
   "outputs": [
    {
     "name": "stdout",
     "output_type": "stream",
     "text": [
      "Enter the id of movie:506\n",
      "Enter the Number of the Stars:2\n"
     ]
    }
   ],
   "source": [
    "#Taking the values from the user fro RATING\n",
    "a = int(input('Enter the id of movie:'))\n",
    "b = int(input('Enter the Number of the Stars:'))"
   ]
  },
  {
   "cell_type": "code",
   "execution_count": 83,
   "id": "c03235d9",
   "metadata": {},
   "outputs": [
    {
     "data": {
      "text/plain": [
       "0"
      ]
     },
     "execution_count": 83,
     "metadata": {},
     "output_type": "execute_result"
    }
   ],
   "source": [
    "#Dynamically inserting the values\n",
    "values = \"insert into rating values(%s,%s)\"\n",
    "cur.execute(values,(a,b))\n",
    "cur.execute('commit')"
   ]
  },
  {
   "cell_type": "code",
   "execution_count": 84,
   "id": "b565f2b6",
   "metadata": {},
   "outputs": [
    {
     "name": "stdout",
     "output_type": "stream",
     "text": [
      "(1, 'MADHURI DIXIT', 'F')\n",
      "(2, 'AAMIR KHAN', 'M')\n",
      "(3, 'JUHI CHAWLA', 'F')\n",
      "(4, 'SRIDEVI', 'F')\n"
     ]
    }
   ],
   "source": [
    "#Retrieving the Actor Values\n",
    "\n",
    "actor = \"select * from actor\"\n",
    "cur.execute(actor)\n",
    "result = cur.fetchall()\n",
    "for i in result:\n",
    "    print(i)"
   ]
  },
  {
   "cell_type": "code",
   "execution_count": 85,
   "id": "a6bf4cd7",
   "metadata": {},
   "outputs": [
    {
     "name": "stdout",
     "output_type": "stream",
     "text": [
      "(100, 'SUBHASH KAPOOR', 98765)\n",
      "(102, 'ALAN TAYLOR', 99719)\n",
      "(103, 'SANTHOSH ANANDDRAM', 99346)\n",
      "(104, 'IMTIAZ ALI', 85399)\n",
      "(105, 'HITCHCOCK', 77661)\n",
      "(106, 'STEVEN SPIELBERG', 99651)\n"
     ]
    }
   ],
   "source": [
    "#Retrieving the Director Values\n",
    "\n",
    "director = \"select * from director\"\n",
    "cur.execute(director)\n",
    "result = cur.fetchall()\n",
    "for i in result:\n",
    "    print(i)"
   ]
  },
  {
   "cell_type": "code",
   "execution_count": 86,
   "id": "d631a127",
   "metadata": {},
   "outputs": [
    {
     "name": "stdout",
     "output_type": "stream",
     "text": [
      "(501, 'JAB HARRY MET SEJAL', 2017, 'HINDI', 104)\n",
      "(502, 'RAJAKUMARA', 2017, 'KANNADA', 103)\n",
      "(503, 'JOLLY LLB 2', 2013, 'HINDI', 100)\n",
      "(504, 'TERMINATOR GENESYS', 2015, 'ENGLISH', 102)\n",
      "(505, 'JAWS', 1975, 'ENGLISH', 106)\n",
      "(506, 'BRIDGE OF SPIES', 2015, 'ENGLISH', 106)\n",
      "(507, 'VERTIGO', 1943, 'ENGLISH', 105)\n",
      "(508, 'SHADOW OF A DOUBT', 1943, 'ENGLISH', 105)\n"
     ]
    }
   ],
   "source": [
    "#Retrieving the Movies Values\n",
    "\n",
    "mov = \"select * from movies\"\n",
    "cur.execute(mov)\n",
    "result = cur.fetchall()\n",
    "for i in result:\n",
    "    print(i)"
   ]
  },
  {
   "cell_type": "code",
   "execution_count": 87,
   "id": "e7a8b74c",
   "metadata": {},
   "outputs": [
    {
     "name": "stdout",
     "output_type": "stream",
     "text": [
      "(1, 501, 'HEROINE')\n",
      "(1, 502, 'HEROINE')\n",
      "(3, 503, 'COMEDIAN')\n",
      "(4, 501, 'HERO')\n",
      "(4, 504, 'GUEST')\n"
     ]
    }
   ],
   "source": [
    "#Retrieving the Movie_Cast Values\n",
    "\n",
    "cast = \"select * from movies_cast\"\n",
    "cur.execute(cast)\n",
    "result = cur.fetchall()\n",
    "for i in result:\n",
    "    print(i)"
   ]
  },
  {
   "cell_type": "code",
   "execution_count": 88,
   "id": "8f3a67e7",
   "metadata": {},
   "outputs": [
    {
     "name": "stdout",
     "output_type": "stream",
     "text": [
      "(501, '4')\n",
      "(502, '2')\n",
      "(503, '5')\n",
      "(504, '4')\n",
      "(505, '3')\n",
      "(506, '2')\n"
     ]
    }
   ],
   "source": [
    "#Retrieving the Rating Values\n",
    "\n",
    "rating = \"select * from rating\"\n",
    "cur.execute(rating)\n",
    "result = cur.fetchall()\n",
    "for i in result:\n",
    "    print(i)"
   ]
  },
  {
   "cell_type": "code",
   "execution_count": 89,
   "id": "bfc46367",
   "metadata": {},
   "outputs": [
    {
     "name": "stdout",
     "output_type": "stream",
     "text": [
      "('VERTIGO',)\n",
      "('SHADOW OF A DOUBT',)\n"
     ]
    }
   ],
   "source": [
    "#Queries 1\n",
    "#List the titles of all movies directed by 'Hitchcock'\n",
    "\n",
    "q1 = '''\n",
    "select mov_title from movies where dir_id in (select dir_id from director where dir_name='HITCHCOCK')\n",
    "'''\n",
    "cur.execute(q1)\n",
    "result = cur.fetchall()\n",
    "for i in result:\n",
    "    print(i)"
   ]
  },
  {
   "cell_type": "code",
   "execution_count": 91,
   "id": "48578025",
   "metadata": {},
   "outputs": [
    {
     "name": "stdout",
     "output_type": "stream",
     "text": [
      "('MADHURI DIXIT', 'JAB HARRY MET SEJAL', 2017)\n",
      "('SRIDEVI', 'JAB HARRY MET SEJAL', 2017)\n",
      "('MADHURI DIXIT', 'RAJAKUMARA', 2017)\n"
     ]
    }
   ],
   "source": [
    "#Query 2\n",
    "# List all actors who acted in a movie before 2000 and also in a movie after 2015\n",
    "\n",
    "q2 = '''\n",
    "select act_name,mov_title,mov_year from actor a join movies_cast c on a.act_id=c.act_id \n",
    "inner join movies m on c.mov_id=m.mov_id \n",
    "where m.mov_year not between 2000 and 2015;\n",
    "'''\n",
    "cur.execute(q2)\n",
    "result = cur.fetchall()\n",
    "for i in result:\n",
    "    print(i)"
   ]
  },
  {
   "cell_type": "code",
   "execution_count": null,
   "id": "14cf0b70",
   "metadata": {},
   "outputs": [],
   "source": []
  }
 ],
 "metadata": {
  "kernelspec": {
   "display_name": "Python 3 (ipykernel)",
   "language": "python",
   "name": "python3"
  },
  "language_info": {
   "codemirror_mode": {
    "name": "ipython",
    "version": 3
   },
   "file_extension": ".py",
   "mimetype": "text/x-python",
   "name": "python",
   "nbconvert_exporter": "python",
   "pygments_lexer": "ipython3",
   "version": "3.11.4"
  }
 },
 "nbformat": 4,
 "nbformat_minor": 5
}
